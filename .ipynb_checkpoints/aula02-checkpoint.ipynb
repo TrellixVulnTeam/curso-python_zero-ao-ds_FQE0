{
 "cells": [
  {
   "cell_type": "code",
   "execution_count": null,
   "id": "9c2e2e9d-64e2-4f52-9989-1d5afc82fbba",
   "metadata": {},
   "outputs": [],
   "source": []
  },
  {
   "cell_type": "markdown",
   "id": "dadb5d1c-b50c-4a87-a0b7-694f1046c256",
   "metadata": {},
   "source": [
    "## Perguntas do CEO"
   ]
  },
  {
   "cell_type": "code",
   "execution_count": null,
   "id": "06219375-81d6-4d0b-b8ba-962b782b4f58",
   "metadata": {},
   "outputs": [],
   "source": [
    "# 1.Qual a data do imóvel mais antigo no portfólio"
   ]
  },
  {
   "cell_type": "code",
   "execution_count": null,
   "id": "e4ac9f01-71c9-41f2-8fcd-78e053788128",
   "metadata": {},
   "outputs": [],
   "source": [
    "a"
   ]
  },
  {
   "cell_type": "code",
   "execution_count": null,
   "id": "269ed5c9-a3cb-404d-b039-98dc1af0eb58",
   "metadata": {},
   "outputs": [],
   "source": [
    "# 2.Quantos imóveis possuem o número máximo de andares?"
   ]
  },
  {
   "cell_type": "code",
   "execution_count": null,
   "id": "46475907-9166-46cf-a120-d5e1896277d4",
   "metadata": {},
   "outputs": [],
   "source": []
  },
  {
   "cell_type": "code",
   "execution_count": null,
   "id": "14078d84-1b5b-4699-8cca-d1a9d47799c1",
   "metadata": {},
   "outputs": [],
   "source": [
    "# 3.Criar uma classificação para imóveis, separando em baixo e alto padrão, de acordo com o preço\n",
    "# -acima de R$ 540.000 alto padrão\n",
    "# -abaixo de R$ 540.000 baixo padrão"
   ]
  },
  {
   "cell_type": "code",
   "execution_count": null,
   "id": "098e7e1f-6b08-405d-a158-fd46dc9a8c4e",
   "metadata": {},
   "outputs": [],
   "source": []
  },
  {
   "cell_type": "code",
   "execution_count": null,
   "id": "9625b680-f2e8-44ec-bda6-c28b2bf90513",
   "metadata": {},
   "outputs": [],
   "source": [
    "# 4.Gostaria de um relatório ordenado pelo preço e contendo as seguintes informações:\n",
    "# (id do imóvel, data que o imóvel ficou disponível para compra, o numero de quartos, \n",
    "#  o tamanho total do terreno, o preço a classificação (alto e baixo padrão)"
   ]
  },
  {
   "cell_type": "code",
   "execution_count": null,
   "id": "9c591b69-fc55-4c93-9f00-4a868556de45",
   "metadata": {},
   "outputs": [],
   "source": []
  },
  {
   "cell_type": "code",
   "execution_count": null,
   "id": "4f7f63b8-49e5-49dc-833c-22238dfea263",
   "metadata": {},
   "outputs": [],
   "source": [
    "# 5.Gostaria de um Mapa indicando onde as casas estão localizadas geograficamente.\n",
    "# Plotly - Biblioteca que armazena a função que desenha mapa\n",
    "# Scatter MapBox - Função de Mapas"
   ]
  },
  {
   "cell_type": "code",
   "execution_count": null,
   "id": "1240e409-cd52-4ed6-9b80-62ce6d97201f",
   "metadata": {},
   "outputs": [],
   "source": []
  },
  {
   "cell_type": "code",
   "execution_count": null,
   "id": "db898585-081e-4fd4-912a-0f7a7b5b987f",
   "metadata": {},
   "outputs": [],
   "source": []
  },
  {
   "cell_type": "code",
   "execution_count": null,
   "id": "5b1daa26-a968-4026-8960-82cee134b6d1",
   "metadata": {},
   "outputs": [],
   "source": []
  },
  {
   "cell_type": "code",
   "execution_count": null,
   "id": "e83601ed-9658-4ace-9cdc-801f9a34e236",
   "metadata": {},
   "outputs": [],
   "source": []
  }
 ],
 "metadata": {
  "kernelspec": {
   "display_name": "curso-python",
   "language": "python",
   "name": "curso-python"
  },
  "language_info": {
   "codemirror_mode": {
    "name": "ipython",
    "version": 3
   },
   "file_extension": ".py",
   "mimetype": "text/x-python",
   "name": "python",
   "nbconvert_exporter": "python",
   "pygments_lexer": "ipython3",
   "version": "3.8.6"
  }
 },
 "nbformat": 4,
 "nbformat_minor": 5
}
