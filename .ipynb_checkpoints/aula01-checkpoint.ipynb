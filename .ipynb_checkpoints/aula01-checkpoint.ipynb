{
 "cells": [
  {
   "cell_type": "code",
   "execution_count": null,
   "id": "89f6ab35-92fa-491d-a471-1d6b5bd9b668",
   "metadata": {},
   "outputs": [],
   "source": []
  },
  {
   "cell_type": "markdown",
   "id": "b4387f69-16a3-4e27-96bd-329032656cdc",
   "metadata": {},
   "source": [
    "## Perguntas do CEO"
   ]
  },
  {
   "cell_type": "code",
   "execution_count": null,
   "id": "bafff183-7ff6-4c0a-bd9e-abb8352c78f2",
   "metadata": {},
   "outputs": [],
   "source": [
    "# 1.Quantas casas estão disponíveis para compra?"
   ]
  },
  {
   "cell_type": "code",
   "execution_count": null,
   "id": "f8ec31b3-caaf-4da2-8d50-c91e00e59435",
   "metadata": {},
   "outputs": [],
   "source": [
    "a"
   ]
  },
  {
   "cell_type": "code",
   "execution_count": null,
   "id": "3f9c4f43-cf5d-4368-957d-46f52960d146",
   "metadata": {},
   "outputs": [],
   "source": [
    "# 2.Quantos atributos as casas possuem? (numero de quartos, numero de garagens, m², vista para o mar)\n"
   ]
  },
  {
   "cell_type": "code",
   "execution_count": null,
   "id": "7cb2afe8-59a5-4299-abae-df4d7e1823b0",
   "metadata": {},
   "outputs": [],
   "source": []
  },
  {
   "cell_type": "code",
   "execution_count": null,
   "id": "103bc68a-9d75-405e-929a-dac74f074f44",
   "metadata": {},
   "outputs": [],
   "source": [
    "# 3.Quais são esses atributos?"
   ]
  },
  {
   "cell_type": "code",
   "execution_count": null,
   "id": "01c231e8-6523-4b5f-b604-1b02341fda51",
   "metadata": {},
   "outputs": [],
   "source": []
  },
  {
   "cell_type": "code",
   "execution_count": null,
   "id": "da2a8fc0-a20b-4fad-908d-1d5086269060",
   "metadata": {},
   "outputs": [],
   "source": [
    "# 4.Qual a casa mais cara do portfólio (casa de maior valor)?"
   ]
  },
  {
   "cell_type": "code",
   "execution_count": null,
   "id": "639c1fb0-87b6-4764-b238-f8e536a4f125",
   "metadata": {},
   "outputs": [],
   "source": []
  },
  {
   "cell_type": "code",
   "execution_count": null,
   "id": "bc07ffd4-c141-457d-91a8-ea19560065ff",
   "metadata": {},
   "outputs": [],
   "source": [
    "# 5.Qual a casa com o maior número de quartos"
   ]
  },
  {
   "cell_type": "code",
   "execution_count": null,
   "id": "64fabebc-09c7-4f79-a861-8d9e8a92f3b3",
   "metadata": {},
   "outputs": [],
   "source": []
  },
  {
   "cell_type": "code",
   "execution_count": null,
   "id": "a7e57571-eec9-438b-a6ef-338fe1600b3b",
   "metadata": {},
   "outputs": [],
   "source": [
    "# 6.Qual a soma total de quartos do conjunto de dados?"
   ]
  },
  {
   "cell_type": "code",
   "execution_count": null,
   "id": "08d5736c-6d5a-4cfc-8f79-3ae933a19221",
   "metadata": {},
   "outputs": [],
   "source": []
  },
  {
   "cell_type": "code",
   "execution_count": null,
   "id": "576fb254-0897-461d-b06b-b47eff73271f",
   "metadata": {},
   "outputs": [],
   "source": [
    "# 7.Quantas casas possuem 2 banheiros"
   ]
  },
  {
   "cell_type": "code",
   "execution_count": null,
   "id": "ec3b3374-e83b-4fba-b26d-51f608757e30",
   "metadata": {},
   "outputs": [],
   "source": []
  },
  {
   "cell_type": "code",
   "execution_count": null,
   "id": "956e0923-3936-42f7-9ff7-c38904311fc8",
   "metadata": {},
   "outputs": [],
   "source": [
    "# 8.Qual o preço médio de todas as casas no conjunto de dados"
   ]
  },
  {
   "cell_type": "code",
   "execution_count": null,
   "id": "565a6091-0bb9-428d-bc63-14ae891b2184",
   "metadata": {},
   "outputs": [],
   "source": []
  },
  {
   "cell_type": "code",
   "execution_count": null,
   "id": "52806061-2f79-4c88-af49-348ea2808627",
   "metadata": {},
   "outputs": [],
   "source": [
    "# 9.Qual o preço médio de casas com 2 banheiros?"
   ]
  },
  {
   "cell_type": "code",
   "execution_count": null,
   "id": "fbd705c6-0330-4106-a563-7b4ead26dd00",
   "metadata": {},
   "outputs": [],
   "source": []
  },
  {
   "cell_type": "code",
   "execution_count": null,
   "id": "83810398-da30-4c7c-b9e8-2097e0f66921",
   "metadata": {},
   "outputs": [],
   "source": [
    "# 10. Qual o preço mínimo entre as casas com 3 quartos?"
   ]
  },
  {
   "cell_type": "code",
   "execution_count": null,
   "id": "280df0e6-edf9-4ae0-92f7-5a61e9c0d535",
   "metadata": {},
   "outputs": [],
   "source": []
  },
  {
   "cell_type": "code",
   "execution_count": null,
   "id": "25b9ade8-9512-4c6c-b9d0-8664c4d7361b",
   "metadata": {},
   "outputs": [],
   "source": [
    "# 11.Quantas casas possuem mais de 300 metros quadrados de sala de estar?"
   ]
  },
  {
   "cell_type": "code",
   "execution_count": null,
   "id": "8d6cc52f-0eee-4f27-9e74-b6b09757e4f4",
   "metadata": {},
   "outputs": [],
   "source": []
  },
  {
   "cell_type": "code",
   "execution_count": null,
   "id": "46eb2fa5-eb07-43c8-bc4f-5122267cac6c",
   "metadata": {},
   "outputs": [],
   "source": [
    "# 12.Quantas casas tem mais de 2 andares?"
   ]
  },
  {
   "cell_type": "code",
   "execution_count": null,
   "id": "2f601be9-95c2-4ee5-80cc-091ef935b871",
   "metadata": {},
   "outputs": [],
   "source": []
  },
  {
   "cell_type": "code",
   "execution_count": null,
   "id": "2434642d-0a2f-40c1-95b1-989e97e4e695",
   "metadata": {},
   "outputs": [],
   "source": [
    "# 13.quantas casas tem vista para o mar?"
   ]
  },
  {
   "cell_type": "code",
   "execution_count": null,
   "id": "46bf944d-de20-41bb-91f5-13cee7e575fb",
   "metadata": {},
   "outputs": [],
   "source": []
  },
  {
   "cell_type": "code",
   "execution_count": null,
   "id": "6cd42501-3346-4217-b16c-c3236dd9c7e3",
   "metadata": {},
   "outputs": [],
   "source": [
    "# 14.Das casas com vista para o mar, quantas tem 3 quartos?"
   ]
  },
  {
   "cell_type": "code",
   "execution_count": null,
   "id": "7b8194cd-b279-4e65-9ab2-e2658f09df24",
   "metadata": {},
   "outputs": [],
   "source": []
  },
  {
   "cell_type": "code",
   "execution_count": null,
   "id": "f10b8358-33c2-4f75-a6bf-54a00119d45f",
   "metadata": {},
   "outputs": [],
   "source": [
    "# 15.Das casas com mais de 300 metros quadrados de sala, quantas tem 2 banheiros?"
   ]
  }
 ],
 "metadata": {
  "kernelspec": {
   "display_name": "curso-python",
   "language": "python",
   "name": "curso-python"
  },
  "language_info": {
   "codemirror_mode": {
    "name": "ipython",
    "version": 3
   },
   "file_extension": ".py",
   "mimetype": "text/x-python",
   "name": "python",
   "nbconvert_exporter": "python",
   "pygments_lexer": "ipython3",
   "version": "3.8.6"
  }
 },
 "nbformat": 4,
 "nbformat_minor": 5
}
